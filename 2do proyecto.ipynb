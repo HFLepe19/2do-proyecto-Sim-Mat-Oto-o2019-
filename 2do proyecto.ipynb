{
 "cells": [
  {
   "cell_type": "code",
   "execution_count": 1,
   "metadata": {},
   "outputs": [
    {
     "ename": "SyntaxError",
     "evalue": "EOF while scanning triple-quoted string literal (<ipython-input-1-5b01d78460d9>, line 49)",
     "output_type": "error",
     "traceback": [
      "\u001b[1;36m  File \u001b[1;32m\"<ipython-input-1-5b01d78460d9>\"\u001b[1;36m, line \u001b[1;32m49\u001b[0m\n\u001b[1;33m    print(\"Area under the curve:\", f_max*(x1-x0)*len(ind_below[0])/N)\u001b[0m\n\u001b[1;37m                                                                     \n^\u001b[0m\n\u001b[1;31mSyntaxError\u001b[0m\u001b[1;31m:\u001b[0m EOF while scanning triple-quoted string literal\n"
     ]
    }
   ],
   "source": [
    "import numpy as np\n",
    "import matplotlib.pyplot as plt\n",
    "def definite_integral_show(f, x0, x1, N):\n",
    "    \"\"\"Aproximado de la integral definida f(x)dx entre x0 y x1 usando\n",
    "    N puntos aleatorios.\n",
    "    \n",
    "    Argumentos:\n",
    "    f: Función de una variable real, debe ser positiva en [x0, x1]\n",
    "    N: El número de puntos aleatorios a usarse.\n",
    "    \n",
    "    \n",
    "    #Primero computamos fmax evaluando f(x) en una cuadrícula de puntos entre x0 y x1, esto nos indica que f es generalmente suave.\n",
    "    \n",
    "    x = np.arange(x0, x1, 0.01)\n",
    "    y = f(x)\n",
    "    f_max = max(y)\n",
    "    \n",
    "    \n",
    "    #Ahora generamos los puntos aleatorios. Las x deben estar entre x0 y x1.\n",
    "    #Las y deben estar entre 0 y fmax\n",
    "    \n",
    "    x_rand = x0 + np.random.random(N)*(x1-x0)\n",
    "    y_rand = 0 +  np.random.random(N)*f_max\n",
    "    \n",
    "    \n",
    "    \n",
    "    #Ahora encontramos los indices de los puntos arriba y debajo de la curva.\n",
    "    #Para puntos debajo de la curva:\n",
    "    #   i s.t. y_rand[i] < f(x_rand)[i]\n",
    "    #Para puntos arriba de la curva:\n",
    "    #   i s.t. y_rand[i] >= f(x_rand)[i]\n",
    "    ind_below = np.where(y_rand < f(x_rand))\n",
    "    ind_above = np.where(y_rand >= f(x_rand))\n",
    "    \n",
    "    \n",
    "    plt.plot(x, y, color = \"red\")\n",
    "    plt.scatter(x_rand[ind_below], y_rand[ind_below], color = \"green\")\n",
    "    plt.scatter(x_rand[ind_above], y_rand[ind_above], color = \"blue\")\n",
    "    plt.legend((pts_below, pts_above),\n",
    "           ('Pts debajo de la curva', 'Pts arriva de la curva'),\n",
    "           loc='abajo izq',\n",
    "           ncol = 3,\n",
    "           fontsize = 10)\n",
    "    \n",
    "    print(\"# de puntos arriba de la curva:\", len(ind_above[0]))\n",
    "    print(\"# de puntos debajo de la curva:\", len(ind_below[0]))\n",
    "    print(\"N. below/N.total:\", len(ind_below[0])/N)\n",
    "    print(\"Área del rectángulo:\", f_max*(x1-x0))\n",
    "    print(\"Área debajo de la curva:\", f_max*(x1-x0)*len(ind_below[0])/N)"
   ]
  },
  {
   "cell_type": "markdown",
   "metadata": {},
   "source": [
    "# Podemos definir y luego ingresar cualquier funcion en definite_integral_show(). "
   ]
  },
  {
   "cell_type": "code",
   "execution_count": null,
   "metadata": {},
   "outputs": [],
   "source": [
    "def f1(x):\n",
    "    '''Return sqrt(1-x**2). Si x es un arreglo, lleavr a cabo la operación (whence the np.sqrt)'''\n",
    "    return np.sqrt(1-x**2)"
   ]
  },
  {
   "cell_type": "code",
   "execution_count": null,
   "metadata": {},
   "outputs": [],
   "source": [
    "definite_integral_show(f1, 0, 1, 200)"
   ]
  },
  {
   "cell_type": "markdown",
   "metadata": {},
   "source": [
    "# Ahora otro ejemplo con otra función "
   ]
  },
  {
   "cell_type": "code",
   "execution_count": null,
   "metadata": {},
   "outputs": [],
   "source": [
    "def g(x):\n",
    "    return x**np.cos(x) + 2   \n",
    "\n",
    "definite_integral_show(g, 1, 15, 1000)"
   ]
  },
  {
   "cell_type": "markdown",
   "metadata": {},
   "source": []
  }
 ],
 "metadata": {
  "kernelspec": {
   "display_name": "Python 3",
   "language": "python",
   "name": "python3"
  },
  "language_info": {
   "codemirror_mode": {
    "name": "ipython",
    "version": 3
   },
   "file_extension": ".py",
   "mimetype": "text/x-python",
   "name": "python",
   "nbconvert_exporter": "python",
   "pygments_lexer": "ipython3",
   "version": "3.6.5"
  }
 },
 "nbformat": 4,
 "nbformat_minor": 2
}
